{
  "nbformat": 4,
  "nbformat_minor": 0,
  "metadata": {
    "colab": {
      "provenance": [],
      "mount_file_id": "10RyHA3dxUiBSRih2Cy8KAg_HDkNV3wtu",
      "authorship_tag": "ABX9TyPBM6r0rcCWm/f6rp7JrnCd",
      "include_colab_link": true
    },
    "kernelspec": {
      "name": "python3",
      "display_name": "Python 3"
    },
    "language_info": {
      "name": "python"
    }
  },
  "cells": [
    {
      "cell_type": "markdown",
      "metadata": {
        "id": "view-in-github",
        "colab_type": "text"
      },
      "source": [
        "<a href=\"https://colab.research.google.com/github/sohan23/Water-Quality-Index-Analysis/blob/main/Water_Quality_Index_Analysis_Test_Site_Siliguri.ipynb\" target=\"_parent\"><img src=\"https://colab.research.google.com/assets/colab-badge.svg\" alt=\"Open In Colab\"/></a>"
      ]
    },
    {
      "cell_type": "markdown",
      "source": [
        "# Water Quality Parameter Viz\n",
        "### A simple test site visualization for outside siliguri\n",
        "\n",
        "The idea of this simple colab notebook is to showcase the one of many water quality parameters through the Sentinal-2 Surface Reflectance Imagery.\n",
        "\n",
        "#### The reason of Surface Reflectance\n",
        "The reason behindthe surface reflectance data is used because it is already  atmospheric deviations corrected.\n",
        "\n"
      ],
      "metadata": {
        "id": "zSUlHixE8HUx"
      }
    },
    {
      "cell_type": "markdown",
      "source": [
        "# Implementing ideas for this study\n",
        "\n",
        "## A. Securing a study area\n",
        "For this the river, situated in the outskirt of city Siliguri Mahananda River is chosen.\n",
        "\n",
        "## B. Clipping the Sentinal 2 imagery\n",
        "Clipping is needed for the satellite imagery extended to the study area.\n",
        "\n",
        "### C. Methodology\n",
        "The following is the tentative methodology for this small study.\n",
        "\n",
        "1. **Acquiring seasonal *blended* imagery**. The seasonal range will only be for the year 2024 and are as follows -\n",
        "    *   **Winter** - December, January, February.\n",
        "    *   **Pre Monsoon** - March, April, May.\n",
        "    *   **Monsoon** - June , July, August.\n",
        "    *   **Post Monsoon** - September, October, November\n",
        "2. **Water body separation**. Using Normalized Difference Water Index (NDWI)We will seprate the water body as a single-band image where each pixel value represents the calculated NDWI for that location. The pixel values will typically range from -1 to +1, with higher positive values indicating the presence of water.\n",
        "3. Further analysis"
      ],
      "metadata": {
        "id": "zctl9BK_-MkJ"
      }
    },
    {
      "cell_type": "markdown",
      "source": [
        "# A. From KMZ to shp\n",
        "This part will deal with the conversion to shp for the better processing by google earth engine.\n",
        "\n",
        "The tasks are -\n",
        "1. Authenticate with GEE\n",
        "2. Upload the file\n",
        "3. Convert the file"
      ],
      "metadata": {
        "id": "BAtki5bLCVy6"
      }
    },
    {
      "cell_type": "code",
      "metadata": {
        "colab": {
          "base_uri": "https://localhost:8080/",
          "height": 17
        },
        "id": "9d5d852a",
        "outputId": "e0534ee9-b671-473a-9d1a-5faf281ebcdd"
      },
      "source": [
        "# Library import section\n",
        "import ee\n",
        "import geopandas as gpd\n",
        "import zipfile\n",
        "import os"
      ],
      "execution_count": 69,
      "outputs": [
        {
          "output_type": "display_data",
          "data": {
            "text/plain": [
              "<IPython.core.display.HTML object>"
            ],
            "text/html": [
              "\n",
              "            <style>\n",
              "                .geemap-dark {\n",
              "                    --jp-widgets-color: white;\n",
              "                    --jp-widgets-label-color: white;\n",
              "                    --jp-ui-font-color1: white;\n",
              "                    --jp-layout-color2: #454545;\n",
              "                    background-color: #383838;\n",
              "                }\n",
              "\n",
              "                .geemap-dark .jupyter-button {\n",
              "                    --jp-layout-color3: #383838;\n",
              "                }\n",
              "\n",
              "                .geemap-colab {\n",
              "                    background-color: var(--colab-primary-surface-color, white);\n",
              "                }\n",
              "\n",
              "                .geemap-colab .jupyter-button {\n",
              "                    --jp-layout-color3: var(--colab-primary-surface-color, white);\n",
              "                }\n",
              "            </style>\n",
              "            "
            ]
          },
          "metadata": {}
        }
      ]
    },
    {
      "cell_type": "code",
      "metadata": {
        "colab": {
          "base_uri": "https://localhost:8080/",
          "height": 34
        },
        "id": "bbebc9b7",
        "outputId": "a4678a69-cb54-4e87-d3b7-0f17926240c9"
      },
      "source": [
        "try:\n",
        "    ee.Initialize(project=\"ee-workspacesohan\")\n",
        "    print('Google Earth Engine has been successfully initialized.')\n",
        "except Exception as e:\n",
        "    print('Google Earth Engine authentication failed:', e)\n",
        "    print('Please authenticate to your Google account by running the following command:')\n",
        "    print('ee.Authenticate()')"
      ],
      "execution_count": 63,
      "outputs": [
        {
          "output_type": "display_data",
          "data": {
            "text/plain": [
              "<IPython.core.display.HTML object>"
            ],
            "text/html": [
              "\n",
              "            <style>\n",
              "                .geemap-dark {\n",
              "                    --jp-widgets-color: white;\n",
              "                    --jp-widgets-label-color: white;\n",
              "                    --jp-ui-font-color1: white;\n",
              "                    --jp-layout-color2: #454545;\n",
              "                    background-color: #383838;\n",
              "                }\n",
              "\n",
              "                .geemap-dark .jupyter-button {\n",
              "                    --jp-layout-color3: #383838;\n",
              "                }\n",
              "\n",
              "                .geemap-colab {\n",
              "                    background-color: var(--colab-primary-surface-color, white);\n",
              "                }\n",
              "\n",
              "                .geemap-colab .jupyter-button {\n",
              "                    --jp-layout-color3: var(--colab-primary-surface-color, white);\n",
              "                }\n",
              "            </style>\n",
              "            "
            ]
          },
          "metadata": {}
        },
        {
          "output_type": "stream",
          "name": "stdout",
          "text": [
            "Google Earth Engine has been successfully initialized.\n"
          ]
        }
      ]
    },
    {
      "cell_type": "markdown",
      "source": [
        "Convertion of kmz to shp"
      ],
      "metadata": {
        "id": "6aC-nQ1uGJzH"
      }
    },
    {
      "cell_type": "code",
      "source": [
        "def kmz_to_shp(input_kmz, output_shp):\n",
        "    \"\"\"\n",
        "    Converts a KMZ file to an ESRI Shapefile.\n",
        "\n",
        "    Args:\n",
        "        input_kmz (str): The path to the input KMZ file.\n",
        "        output_shp (str): The desired path for the output Shapefile.\n",
        "    \"\"\"\n",
        "    # Create a temporary directory to extract the KML file\n",
        "    temp_dir = 'temp_kml_extraction'\n",
        "    os.makedirs(temp_dir, exist_ok=True)\n",
        "\n",
        "    try:\n",
        "        # Open the KMZ file as a zip archive\n",
        "        with zipfile.ZipFile(input_kmz, 'r') as zip_ref:\n",
        "            # Extract all contents to the temporary directory\n",
        "            zip_ref.extractall(temp_dir)\n",
        "\n",
        "        # Find the KML file within the extracted contents (usually doc.kml)\n",
        "        kml_file = None\n",
        "        for root, _, files in os.walk(temp_dir):\n",
        "            for file in files:\n",
        "                if file.endswith('.kml'):\n",
        "                    kml_file = os.path.join(root, file)\n",
        "                    break\n",
        "            if kml_file:\n",
        "                break\n",
        "\n",
        "        if not kml_file:\n",
        "            print(f\"Error: No KML file found inside {input_kmz}\")\n",
        "            return\n",
        "\n",
        "        # Read the KML file using geopandas\n",
        "        print(f\"Reading data from {kml_file}...\")\n",
        "        gdf = gpd.read_file(kml_file, driver='KML')\n",
        "\n",
        "        # Write the GeoDataFrame to a shapefile\n",
        "        print(f\"Writing data to {output_shp}...\")\n",
        "        gdf.to_file(output_shp, driver='ESRI Shapefile')\n",
        "\n",
        "        print(\"Conversion successful!\")\n",
        "\n",
        "    except Exception as e:\n",
        "        print(f\"An error occurred: {e}\")\n",
        "\n",
        "    finally:\n",
        "        # Clean up the temporary directory\n",
        "        if os.path.exists(temp_dir):\n",
        "            for root, dirs, files in os.walk(temp_dir, topdown=False):\n",
        "                for name in files:\n",
        "                    os.remove(os.path.join(root, name))\n",
        "                for name in dirs:\n",
        "                    os.rmdir(os.path.join(root, name))\n",
        "            os.rmdir(temp_dir)\n",
        "\n",
        "\n",
        "# Example usage:\n",
        "if __name__ == '__main__':\n",
        "    # Replace with your file paths\n",
        "    input_kmz_file = '/content/drive/MyDrive/Personal Project and Workspace/Projects/SiDCREW Project/Test Study Area Water Quality/Test Site - Siliguri 1.kmz'\n",
        "    output_shp_file = '/content/drive/MyDrive/Personal Project and Workspace/Projects/SiDCREW Project/Test Study Area Water Quality/Test Site - Siliguri 1.shp' # Remember not to include any space in the output shapefile naming convention\n",
        "\n",
        "    kmz_to_shp(input_kmz_file, output_shp_file)"
      ],
      "metadata": {
        "colab": {
          "base_uri": "https://localhost:8080/",
          "height": 69
        },
        "id": "rQ1qvHSyEaY2",
        "outputId": "07992680-4a06-46a0-a6b4-7b75b0fcc95f"
      },
      "execution_count": 70,
      "outputs": [
        {
          "output_type": "display_data",
          "data": {
            "text/plain": [
              "<IPython.core.display.HTML object>"
            ],
            "text/html": [
              "\n",
              "            <style>\n",
              "                .geemap-dark {\n",
              "                    --jp-widgets-color: white;\n",
              "                    --jp-widgets-label-color: white;\n",
              "                    --jp-ui-font-color1: white;\n",
              "                    --jp-layout-color2: #454545;\n",
              "                    background-color: #383838;\n",
              "                }\n",
              "\n",
              "                .geemap-dark .jupyter-button {\n",
              "                    --jp-layout-color3: #383838;\n",
              "                }\n",
              "\n",
              "                .geemap-colab {\n",
              "                    background-color: var(--colab-primary-surface-color, white);\n",
              "                }\n",
              "\n",
              "                .geemap-colab .jupyter-button {\n",
              "                    --jp-layout-color3: var(--colab-primary-surface-color, white);\n",
              "                }\n",
              "            </style>\n",
              "            "
            ]
          },
          "metadata": {}
        },
        {
          "output_type": "stream",
          "name": "stdout",
          "text": [
            "Reading data from temp_kml_extraction/doc.kml...\n",
            "Writing data to /content/drive/MyDrive/Personal Project and Workspace/Projects/SiDCREW Project/Test Study Area Water Quality/Test Site - Siliguri 1.shp...\n",
            "Conversion successful!\n"
          ]
        }
      ]
    },
    {
      "cell_type": "markdown",
      "metadata": {
        "id": "97e27d15"
      },
      "source": [
        "## Load featurecollection\n",
        "\n",
        "### Subtask:\n",
        "Load the shapefile asset from Google Earth Engine using its asset ID.\n"
      ]
    },
    {
      "cell_type": "markdown",
      "metadata": {
        "id": "8c5c4027"
      },
      "source": [
        "**Reasoning**:\n",
        "Define the asset ID and load the shapefile asset from Google Earth Engine.\n",
        "\n"
      ]
    },
    {
      "cell_type": "code",
      "metadata": {
        "colab": {
          "base_uri": "https://localhost:8080/",
          "height": 17
        },
        "id": "bdd0a6e7",
        "outputId": "14d6b9a8-19cd-4f2f-ee79-ebee0152900b"
      },
      "source": [
        "asset_id = 'projects/ee-workspacesohan/assets/Test_Site-Siliguri_1'\n",
        "study_area = ee.FeatureCollection(asset_id)"
      ],
      "execution_count": 84,
      "outputs": [
        {
          "output_type": "display_data",
          "data": {
            "text/plain": [
              "<IPython.core.display.HTML object>"
            ],
            "text/html": [
              "\n",
              "            <style>\n",
              "                .geemap-dark {\n",
              "                    --jp-widgets-color: white;\n",
              "                    --jp-widgets-label-color: white;\n",
              "                    --jp-ui-font-color1: white;\n",
              "                    --jp-layout-color2: #454545;\n",
              "                    background-color: #383838;\n",
              "                }\n",
              "\n",
              "                .geemap-dark .jupyter-button {\n",
              "                    --jp-layout-color3: #383838;\n",
              "                }\n",
              "\n",
              "                .geemap-colab {\n",
              "                    background-color: var(--colab-primary-surface-color, white);\n",
              "                }\n",
              "\n",
              "                .geemap-colab .jupyter-button {\n",
              "                    --jp-layout-color3: var(--colab-primary-surface-color, white);\n",
              "                }\n",
              "            </style>\n",
              "            "
            ]
          },
          "metadata": {}
        }
      ]
    },
    {
      "cell_type": "code",
      "metadata": {
        "colab": {
          "base_uri": "https://localhost:8080/",
          "height": 621
        },
        "id": "bce3bbdf",
        "outputId": "31004e9e-a188-4937-c2a6-dda24a649083"
      },
      "source": [
        "# Visulazing the map\n",
        "\n",
        "# Initialize a map\n",
        "Map = geemap.Map(center=[26.72, 88.4], zoom=12) # You might want to adjust the center and zoom level\n",
        "\n",
        "# Add the study area FeatureCollection to the map\n",
        "Map.add_layer(study_area, {}, 'Study Area')\n",
        "\n",
        "# Display the map\n",
        "Map"
      ],
      "execution_count": 85,
      "outputs": [
        {
          "output_type": "display_data",
          "data": {
            "text/plain": [
              "<IPython.core.display.HTML object>"
            ],
            "text/html": [
              "\n",
              "            <style>\n",
              "                .geemap-dark {\n",
              "                    --jp-widgets-color: white;\n",
              "                    --jp-widgets-label-color: white;\n",
              "                    --jp-ui-font-color1: white;\n",
              "                    --jp-layout-color2: #454545;\n",
              "                    background-color: #383838;\n",
              "                }\n",
              "\n",
              "                .geemap-dark .jupyter-button {\n",
              "                    --jp-layout-color3: #383838;\n",
              "                }\n",
              "\n",
              "                .geemap-colab {\n",
              "                    background-color: var(--colab-primary-surface-color, white);\n",
              "                }\n",
              "\n",
              "                .geemap-colab .jupyter-button {\n",
              "                    --jp-layout-color3: var(--colab-primary-surface-color, white);\n",
              "                }\n",
              "            </style>\n",
              "            "
            ]
          },
          "metadata": {}
        },
        {
          "output_type": "execute_result",
          "data": {
            "text/plain": [
              "<geemap.foliumap.Map at 0x7e87ba9039e0>"
            ],
            "text/html": [
              "<iframe srcdoc=\"&lt;!DOCTYPE html&gt;\n",
              "&lt;html&gt;\n",
              "&lt;head&gt;\n",
              "    \n",
              "    &lt;meta http-equiv=&quot;content-type&quot; content=&quot;text/html; charset=UTF-8&quot; /&gt;\n",
              "    &lt;script src=&quot;https://cdn.jsdelivr.net/npm/leaflet@1.9.3/dist/leaflet.js&quot;&gt;&lt;/script&gt;\n",
              "    &lt;script src=&quot;https://code.jquery.com/jquery-3.7.1.min.js&quot;&gt;&lt;/script&gt;\n",
              "    &lt;script src=&quot;https://cdn.jsdelivr.net/npm/bootstrap@5.2.2/dist/js/bootstrap.bundle.min.js&quot;&gt;&lt;/script&gt;\n",
              "    &lt;script src=&quot;https://cdnjs.cloudflare.com/ajax/libs/Leaflet.awesome-markers/2.0.2/leaflet.awesome-markers.js&quot;&gt;&lt;/script&gt;\n",
              "    &lt;link rel=&quot;stylesheet&quot; href=&quot;https://cdn.jsdelivr.net/npm/leaflet@1.9.3/dist/leaflet.css&quot;/&gt;\n",
              "    &lt;link rel=&quot;stylesheet&quot; href=&quot;https://cdn.jsdelivr.net/npm/bootstrap@5.2.2/dist/css/bootstrap.min.css&quot;/&gt;\n",
              "    &lt;link rel=&quot;stylesheet&quot; href=&quot;https://netdna.bootstrapcdn.com/bootstrap/3.0.0/css/bootstrap-glyphicons.css&quot;/&gt;\n",
              "    &lt;link rel=&quot;stylesheet&quot; href=&quot;https://cdn.jsdelivr.net/npm/@fortawesome/fontawesome-free@6.2.0/css/all.min.css&quot;/&gt;\n",
              "    &lt;link rel=&quot;stylesheet&quot; href=&quot;https://cdnjs.cloudflare.com/ajax/libs/Leaflet.awesome-markers/2.0.2/leaflet.awesome-markers.css&quot;/&gt;\n",
              "    &lt;link rel=&quot;stylesheet&quot; href=&quot;https://cdn.jsdelivr.net/gh/python-visualization/folium/folium/templates/leaflet.awesome.rotate.min.css&quot;/&gt;\n",
              "    \n",
              "            &lt;meta name=&quot;viewport&quot; content=&quot;width=device-width,\n",
              "                initial-scale=1.0, maximum-scale=1.0, user-scalable=no&quot; /&gt;\n",
              "            &lt;style&gt;\n",
              "                #map_8f42a7b8117ef05142879a525d210a46 {\n",
              "                    position: relative;\n",
              "                    width: 100.0%;\n",
              "                    height: 100.0%;\n",
              "                    left: 0.0%;\n",
              "                    top: 0.0%;\n",
              "                }\n",
              "                .leaflet-container { font-size: 1rem; }\n",
              "            &lt;/style&gt;\n",
              "\n",
              "            &lt;style&gt;html, body {\n",
              "                width: 100%;\n",
              "                height: 100%;\n",
              "                margin: 0;\n",
              "                padding: 0;\n",
              "            }\n",
              "            &lt;/style&gt;\n",
              "\n",
              "            &lt;style&gt;#map {\n",
              "                position:absolute;\n",
              "                top:0;\n",
              "                bottom:0;\n",
              "                right:0;\n",
              "                left:0;\n",
              "                }\n",
              "            &lt;/style&gt;\n",
              "\n",
              "            &lt;script&gt;\n",
              "                L_NO_TOUCH = false;\n",
              "                L_DISABLE_3D = false;\n",
              "            &lt;/script&gt;\n",
              "\n",
              "        \n",
              "    &lt;script src=&quot;https://cdn.jsdelivr.net/npm/leaflet.fullscreen@3.0.0/Control.FullScreen.min.js&quot;&gt;&lt;/script&gt;\n",
              "    &lt;link rel=&quot;stylesheet&quot; href=&quot;https://cdn.jsdelivr.net/npm/leaflet.fullscreen@3.0.0/Control.FullScreen.css&quot;/&gt;\n",
              "    &lt;script src=&quot;https://cdnjs.cloudflare.com/ajax/libs/leaflet.draw/1.0.2/leaflet.draw.js&quot;&gt;&lt;/script&gt;\n",
              "    &lt;link rel=&quot;stylesheet&quot; href=&quot;https://cdnjs.cloudflare.com/ajax/libs/leaflet.draw/1.0.2/leaflet.draw.css&quot;/&gt;\n",
              "    &lt;script src=&quot;https://unpkg.com/leaflet-control-geocoder/dist/Control.Geocoder.js&quot;&gt;&lt;/script&gt;\n",
              "    &lt;link rel=&quot;stylesheet&quot; href=&quot;https://unpkg.com/leaflet-control-geocoder/dist/Control.Geocoder.css&quot;/&gt;\n",
              "&lt;/head&gt;\n",
              "&lt;body&gt;\n",
              "    \n",
              "    \n",
              "            &lt;div class=&quot;folium-map&quot; id=&quot;map_8f42a7b8117ef05142879a525d210a46&quot; &gt;&lt;/div&gt;\n",
              "        \n",
              "    \n",
              "            \n",
              "        \n",
              "&lt;/body&gt;\n",
              "&lt;script&gt;\n",
              "    \n",
              "    \n",
              "            var map_8f42a7b8117ef05142879a525d210a46 = L.map(\n",
              "                &quot;map_8f42a7b8117ef05142879a525d210a46&quot;,\n",
              "                {\n",
              "                    center: [26.72, 88.4],\n",
              "                    crs: L.CRS.EPSG3857,\n",
              "                    ...{\n",
              "  &quot;zoom&quot;: 12,\n",
              "  &quot;zoomControl&quot;: true,\n",
              "  &quot;preferCanvas&quot;: false,\n",
              "  &quot;eeInitialize&quot;: true,\n",
              "  &quot;addGoogleMap&quot;: false,\n",
              "  &quot;pluginLatlngpopup&quot;: false,\n",
              "  &quot;pluginFullscreen&quot;: true,\n",
              "  &quot;pluginDraw&quot;: true,\n",
              "  &quot;DrawExport&quot;: false,\n",
              "  &quot;pluginMinimap&quot;: false,\n",
              "  &quot;locateControl&quot;: false,\n",
              "  &quot;searchControl&quot;: true,\n",
              "  &quot;layersControl&quot;: true,\n",
              "}\n",
              "\n",
              "                }\n",
              "            );\n",
              "\n",
              "            \n",
              "\n",
              "        \n",
              "    \n",
              "            var tile_layer_f7219b3fdec7a3c87f3d6dbf13f8116f = L.tileLayer(\n",
              "                &quot;https://tile.openstreetmap.org/{z}/{x}/{y}.png&quot;,\n",
              "                {\n",
              "  &quot;minZoom&quot;: 0,\n",
              "  &quot;maxZoom&quot;: 30,\n",
              "  &quot;maxNativeZoom&quot;: 30,\n",
              "  &quot;noWrap&quot;: false,\n",
              "  &quot;attribution&quot;: &quot;\\u0026copy; \\u003ca href=\\&quot;https://www.openstreetmap.org/copyright\\&quot;\\u003eOpenStreetMap\\u003c/a\\u003e contributors&quot;,\n",
              "  &quot;subdomains&quot;: &quot;abc&quot;,\n",
              "  &quot;detectRetina&quot;: false,\n",
              "  &quot;tms&quot;: false,\n",
              "  &quot;opacity&quot;: 1,\n",
              "}\n",
              "\n",
              "            );\n",
              "        \n",
              "    \n",
              "            tile_layer_f7219b3fdec7a3c87f3d6dbf13f8116f.addTo(map_8f42a7b8117ef05142879a525d210a46);\n",
              "        \n",
              "    \n",
              "            L.control.fullscreen(\n",
              "                {\n",
              "  &quot;position&quot;: &quot;topleft&quot;,\n",
              "  &quot;title&quot;: &quot;Full Screen&quot;,\n",
              "  &quot;titleCancel&quot;: &quot;Exit Full Screen&quot;,\n",
              "  &quot;forceSeparateButton&quot;: false,\n",
              "}\n",
              "            ).addTo(map_8f42a7b8117ef05142879a525d210a46);\n",
              "        \n",
              "    \n",
              "            var options = {\n",
              "              position: &quot;topleft&quot;,\n",
              "              draw: {},\n",
              "              edit: {},\n",
              "            }\n",
              "                // FeatureGroup is to store editable layers.\n",
              "                var drawnItems_draw_control_44f2c4fc18024ef8f9d206db2554791c =\n",
              "                    new L.featureGroup().addTo(\n",
              "                        map_8f42a7b8117ef05142879a525d210a46\n",
              "                    );\n",
              "\n",
              "            options.edit.featureGroup = drawnItems_draw_control_44f2c4fc18024ef8f9d206db2554791c;\n",
              "            var draw_control_44f2c4fc18024ef8f9d206db2554791c = new L.Control.Draw(\n",
              "                options\n",
              "            ).addTo( map_8f42a7b8117ef05142879a525d210a46 );\n",
              "            map_8f42a7b8117ef05142879a525d210a46.on(L.Draw.Event.CREATED, function(e) {\n",
              "                var layer = e.layer,\n",
              "                    type = e.layerType;\n",
              "                var coords = JSON.stringify(layer.toGeoJSON());\n",
              "                layer.on(&#x27;click&#x27;, function() {\n",
              "                    alert(coords);\n",
              "                    console.log(coords);\n",
              "                });\n",
              "                drawnItems_draw_control_44f2c4fc18024ef8f9d206db2554791c.addLayer(layer);\n",
              "            });\n",
              "            map_8f42a7b8117ef05142879a525d210a46.on(&#x27;draw:created&#x27;, function(e) {\n",
              "                drawnItems_draw_control_44f2c4fc18024ef8f9d206db2554791c.addLayer(e.layer);\n",
              "            });\n",
              "\n",
              "            \n",
              "        \n",
              "    \n",
              "\n",
              "            var geocoderOpts_geocoder_edbfe95b28494b46214dac4a0b6b1944 = {\n",
              "  &quot;collapsed&quot;: true,\n",
              "  &quot;position&quot;: &quot;topleft&quot;,\n",
              "  &quot;defaultMarkGeocode&quot;: true,\n",
              "  &quot;zoom&quot;: 11,\n",
              "  &quot;provider&quot;: &quot;nominatim&quot;,\n",
              "  &quot;providerOptions&quot;: {\n",
              "},\n",
              "};\n",
              "\n",
              "            // note: geocoder name should start with lowercase\n",
              "            var geocoderName_geocoder_edbfe95b28494b46214dac4a0b6b1944 = geocoderOpts_geocoder_edbfe95b28494b46214dac4a0b6b1944[&quot;provider&quot;];\n",
              "\n",
              "            var customGeocoder_geocoder_edbfe95b28494b46214dac4a0b6b1944 = L.Control.Geocoder[ geocoderName_geocoder_edbfe95b28494b46214dac4a0b6b1944 ](\n",
              "                geocoderOpts_geocoder_edbfe95b28494b46214dac4a0b6b1944[&#x27;providerOptions&#x27;]\n",
              "            );\n",
              "            geocoderOpts_geocoder_edbfe95b28494b46214dac4a0b6b1944[&quot;geocoder&quot;] = customGeocoder_geocoder_edbfe95b28494b46214dac4a0b6b1944;\n",
              "\n",
              "            L.Control.geocoder(\n",
              "                geocoderOpts_geocoder_edbfe95b28494b46214dac4a0b6b1944\n",
              "            ).on(&#x27;markgeocode&#x27;, function(e) {\n",
              "                var zoom = geocoderOpts_geocoder_edbfe95b28494b46214dac4a0b6b1944[&#x27;zoom&#x27;] || map_8f42a7b8117ef05142879a525d210a46.getZoom();\n",
              "                map_8f42a7b8117ef05142879a525d210a46.setView(e.geocode.center, zoom);\n",
              "            }).addTo(map_8f42a7b8117ef05142879a525d210a46);\n",
              "\n",
              "        \n",
              "    \n",
              "            map_8f42a7b8117ef05142879a525d210a46.fitBounds(\n",
              "                [[26.72, 88.4], [26.72, 88.4]],\n",
              "                {&quot;maxZoom&quot;: 12}\n",
              "            );\n",
              "        \n",
              "    \n",
              "            var tile_layer_1a2e88af6539618b169bf05db314dae4 = L.tileLayer(\n",
              "                &quot;https://earthengine.googleapis.com/v1/projects/ee-workspacesohan/maps/3af8cc50adc8edf5a2e146e2795afe1c-a6389f4fcaecd2b2adaf902728a326c6/tiles/{z}/{x}/{y}&quot;,\n",
              "                {\n",
              "  &quot;minZoom&quot;: 0,\n",
              "  &quot;maxZoom&quot;: 24,\n",
              "  &quot;maxNativeZoom&quot;: 24,\n",
              "  &quot;noWrap&quot;: false,\n",
              "  &quot;attribution&quot;: &quot;Google Earth Engine&quot;,\n",
              "  &quot;subdomains&quot;: &quot;abc&quot;,\n",
              "  &quot;detectRetina&quot;: false,\n",
              "  &quot;tms&quot;: false,\n",
              "  &quot;opacity&quot;: 1.0,\n",
              "}\n",
              "\n",
              "            );\n",
              "        \n",
              "    \n",
              "            tile_layer_1a2e88af6539618b169bf05db314dae4.addTo(map_8f42a7b8117ef05142879a525d210a46);\n",
              "        \n",
              "    \n",
              "            var layer_control_29e734a9eea48a1dbadde7ebd33537e1_layers = {\n",
              "                base_layers : {\n",
              "                    &quot;openstreetmap&quot; : tile_layer_f7219b3fdec7a3c87f3d6dbf13f8116f,\n",
              "                },\n",
              "                overlays :  {\n",
              "                    &quot;Study Area&quot; : tile_layer_1a2e88af6539618b169bf05db314dae4,\n",
              "                },\n",
              "            };\n",
              "            let layer_control_29e734a9eea48a1dbadde7ebd33537e1 = L.control.layers(\n",
              "                layer_control_29e734a9eea48a1dbadde7ebd33537e1_layers.base_layers,\n",
              "                layer_control_29e734a9eea48a1dbadde7ebd33537e1_layers.overlays,\n",
              "                {\n",
              "  &quot;position&quot;: &quot;topright&quot;,\n",
              "  &quot;collapsed&quot;: true,\n",
              "  &quot;autoZIndex&quot;: true,\n",
              "}\n",
              "            ).addTo(map_8f42a7b8117ef05142879a525d210a46);\n",
              "\n",
              "        \n",
              "&lt;/script&gt;\n",
              "&lt;/html&gt;\" width=\"100%\" height=\"600\"style=\"border:none !important;\" \"allowfullscreen\" \"webkitallowfullscreen\" \"mozallowfullscreen\"></iframe>"
            ]
          },
          "metadata": {},
          "execution_count": 85
        }
      ]
    },
    {
      "cell_type": "markdown",
      "source": [],
      "metadata": {
        "id": "k94jashSfxOd"
      }
    }
  ]
}